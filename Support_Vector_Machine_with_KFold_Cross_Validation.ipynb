{
 "cells": [
  {
   "cell_type": "code",
   "execution_count": 2,
   "id": "b5386de8",
   "metadata": {},
   "outputs": [],
   "source": [
    "import numpy as np\n",
    "import pandas as pd\n",
    "import matplotlib.pyplot as plt\n",
    "import seaborn as sns\n",
    "from sklearn import svm"
   ]
  },
  {
   "cell_type": "code",
   "execution_count": 3,
   "id": "ea3a072e",
   "metadata": {},
   "outputs": [],
   "source": [
    "from sklearn.preprocessing import StandardScaler, OneHotEncoder"
   ]
  },
  {
   "cell_type": "code",
   "execution_count": 4,
   "id": "91ceb2f8",
   "metadata": {},
   "outputs": [],
   "source": [
    "df = pd.read_csv(\"/Users/seungwooseo/Library/Mobile Documents/com~apple~CloudDocs/Github/Machine_Learning_study/drug200.csv\")"
   ]
  },
  {
   "cell_type": "markdown",
   "id": "5c52b3c5",
   "metadata": {},
   "source": [
    "### EDA"
   ]
  },
  {
   "cell_type": "code",
   "execution_count": 6,
   "id": "c6ed353a",
   "metadata": {},
   "outputs": [
    {
     "data": {
      "text/html": [
       "<div>\n",
       "<style scoped>\n",
       "    .dataframe tbody tr th:only-of-type {\n",
       "        vertical-align: middle;\n",
       "    }\n",
       "\n",
       "    .dataframe tbody tr th {\n",
       "        vertical-align: top;\n",
       "    }\n",
       "\n",
       "    .dataframe thead th {\n",
       "        text-align: right;\n",
       "    }\n",
       "</style>\n",
       "<table border=\"1\" class=\"dataframe\">\n",
       "  <thead>\n",
       "    <tr style=\"text-align: right;\">\n",
       "      <th></th>\n",
       "      <th>Age</th>\n",
       "      <th>Na_to_K</th>\n",
       "    </tr>\n",
       "  </thead>\n",
       "  <tbody>\n",
       "    <tr>\n",
       "      <th>count</th>\n",
       "      <td>200.000000</td>\n",
       "      <td>200.000000</td>\n",
       "    </tr>\n",
       "    <tr>\n",
       "      <th>mean</th>\n",
       "      <td>44.315000</td>\n",
       "      <td>16.084485</td>\n",
       "    </tr>\n",
       "    <tr>\n",
       "      <th>std</th>\n",
       "      <td>16.544315</td>\n",
       "      <td>7.223956</td>\n",
       "    </tr>\n",
       "    <tr>\n",
       "      <th>min</th>\n",
       "      <td>15.000000</td>\n",
       "      <td>6.269000</td>\n",
       "    </tr>\n",
       "    <tr>\n",
       "      <th>25%</th>\n",
       "      <td>31.000000</td>\n",
       "      <td>10.445500</td>\n",
       "    </tr>\n",
       "    <tr>\n",
       "      <th>50%</th>\n",
       "      <td>45.000000</td>\n",
       "      <td>13.936500</td>\n",
       "    </tr>\n",
       "    <tr>\n",
       "      <th>75%</th>\n",
       "      <td>58.000000</td>\n",
       "      <td>19.380000</td>\n",
       "    </tr>\n",
       "    <tr>\n",
       "      <th>max</th>\n",
       "      <td>74.000000</td>\n",
       "      <td>38.247000</td>\n",
       "    </tr>\n",
       "  </tbody>\n",
       "</table>\n",
       "</div>"
      ],
      "text/plain": [
       "              Age     Na_to_K\n",
       "count  200.000000  200.000000\n",
       "mean    44.315000   16.084485\n",
       "std     16.544315    7.223956\n",
       "min     15.000000    6.269000\n",
       "25%     31.000000   10.445500\n",
       "50%     45.000000   13.936500\n",
       "75%     58.000000   19.380000\n",
       "max     74.000000   38.247000"
      ]
     },
     "execution_count": 6,
     "metadata": {},
     "output_type": "execute_result"
    }
   ],
   "source": [
    "df.describe()"
   ]
  },
  {
   "cell_type": "code",
   "execution_count": 7,
   "id": "41857e8e",
   "metadata": {},
   "outputs": [
    {
     "name": "stdout",
     "output_type": "stream",
     "text": [
      "<class 'pandas.core.frame.DataFrame'>\n",
      "RangeIndex: 200 entries, 0 to 199\n",
      "Data columns (total 6 columns):\n",
      " #   Column       Non-Null Count  Dtype  \n",
      "---  ------       --------------  -----  \n",
      " 0   Age          200 non-null    int64  \n",
      " 1   Sex          200 non-null    object \n",
      " 2   BP           200 non-null    object \n",
      " 3   Cholesterol  200 non-null    object \n",
      " 4   Na_to_K      200 non-null    float64\n",
      " 5   Drug         200 non-null    object \n",
      "dtypes: float64(1), int64(1), object(4)\n",
      "memory usage: 9.5+ KB\n"
     ]
    }
   ],
   "source": [
    "df.info()"
   ]
  },
  {
   "cell_type": "code",
   "execution_count": 9,
   "id": "3b245345",
   "metadata": {},
   "outputs": [
    {
     "data": {
      "text/plain": [
       "<Axes: xlabel='Drug', ylabel='count'>"
      ]
     },
     "execution_count": 9,
     "metadata": {},
     "output_type": "execute_result"
    },
    {
     "data": {
      "image/png": "[encoded data removed]",
      "text/plain": [
       "<Figure size 640x480 with 1 Axes>"
      ]
     },
     "metadata": {},
     "output_type": "display_data"
    }
   ],
   "source": [
    "#Check the bias of dependent variable\n",
    "sns.countplot(x=df['Drug'])"
   ]
  },
  {
   "cell_type": "markdown",
   "id": "cb599d3d",
   "metadata": {},
   "source": [
    "### Data Preprocessing"
   ]
  },
  {
   "cell_type": "code",
   "execution_count": 10,
   "id": "acae846c",
   "metadata": {},
   "outputs": [],
   "source": [
    "scaler = StandardScaler()"
   ]
  },
  {
   "cell_type": "code",
   "execution_count": 11,
   "id": "ba22a1b8",
   "metadata": {},
   "outputs": [],
   "source": [
    "encoder = OneHotEncoder()"
   ]
  },
  {
   "cell_type": "markdown",
   "id": "3626411c",
   "metadata": {},
   "source": [
    "#### Divide the whole dataset into two types"
   ]
  },
  {
   "cell_type": "code",
   "execution_count": 12,
   "id": "cc6cbdb0",
   "metadata": {},
   "outputs": [],
   "source": [
    "# Sex, BP, and Cholesterol are categorical variables\n",
    "X_categorical = df[['Sex','BP','Cholesterol']]"
   ]
  },
  {
   "cell_type": "code",
   "execution_count": 14,
   "id": "d89a056b",
   "metadata": {},
   "outputs": [],
   "source": [
    "X_categorical = encoder.fit_transform(X_categorical)"
   ]
  },
  {
   "cell_type": "code",
   "execution_count": 18,
   "id": "80e5d442",
   "metadata": {},
   "outputs": [
    {
     "name": "stdout",
     "output_type": "stream",
     "text": [
      "[[1. 0. 1. ... 0. 1. 0.]\n",
      " [0. 1. 0. ... 0. 1. 0.]\n",
      " [0. 1. 0. ... 0. 1. 0.]\n",
      " ...\n",
      " [0. 1. 0. ... 1. 1. 0.]\n",
      " [0. 1. 0. ... 1. 0. 1.]\n",
      " [1. 0. 0. ... 0. 0. 1.]]\n"
     ]
    }
   ],
   "source": [
    "print(X_categorical.toarray())"
   ]
  },
  {
   "cell_type": "code",
   "execution_count": 19,
   "id": "6c82a743",
   "metadata": {},
   "outputs": [],
   "source": [
    "# 'Age' and 'Na_to_K' variables are numerical variables\n",
    "X_numerical = df[['Age','Na_to_K']]"
   ]
  },
  {
   "cell_type": "code",
   "execution_count": 22,
   "id": "d1f4a551",
   "metadata": {},
   "outputs": [],
   "source": [
    "X_numerical = scaler.fit_transform(X_numerical)"
   ]
  },
  {
   "cell_type": "code",
   "execution_count": 23,
   "id": "15c0ece9",
   "metadata": {},
   "outputs": [
    {
     "data": {
      "text/plain": [
       "array([[-1.29159102,  1.28652212],\n",
       "       [ 0.16269866, -0.4151454 ],\n",
       "       [ 0.16269866, -0.82855818],\n",
       "       [-0.988614  , -1.14996267],\n",
       "       [ 1.0110343 ,  0.27179427],\n",
       "       [-1.35218642, -1.03769314],\n",
       "       [ 0.28388946,  0.02643885],\n",
       "       [-0.20087376, -0.70046821],\n",
       "       [ 0.9504389 , -0.12676951],\n",
       "       [-0.07968296,  0.45567206],\n",
       "       [ 0.16269866, -0.59916196],\n",
       "       [-0.62504158,  0.43221897],\n",
       "       [-0.07968296, -0.09832049],\n",
       "       [ 1.79877454,  0.674105  ],\n",
       "       [ 0.34448487, -0.46926791],\n",
       "       [-1.71575884, -0.0788919 ],\n",
       "       [ 1.49579753, -0.64245998],\n",
       "       [-0.07968296, -0.29316156],\n",
       "       [-1.29159102, -1.21935052],\n",
       "       [-0.74623239,  1.37242427],\n",
       "       [ 0.76865269,  0.42236589],\n",
       "       [ 1.13222511,  1.36451406],\n",
       "       [ 0.16269866,  2.00995979],\n",
       "       [ 0.22329406, -0.14550423],\n",
       "       [-0.68563699,  2.41490725],\n",
       "       [-0.988614  ,  0.37809645],\n",
       "       [-0.80682779,  1.9819271 ],\n",
       "       [ 0.28388946, -0.93028076],\n",
       "       [-0.32206457,  0.91765633],\n",
       "       [ 0.04150785,  0.25902691],\n",
       "       [-1.59456803, -1.01784822],\n",
       "       [ 1.79877454, -0.90446848],\n",
       "       [ 0.28388946, -0.70366006],\n",
       "       [ 1.25341591,  2.19147839],\n",
       "       [ 0.52627108, -0.27081868],\n",
       "       [ 0.10210325, -1.2211546 ],\n",
       "       [-0.74623239, -0.92139911],\n",
       "       [-0.32206457, -0.29787994],\n",
       "       [-0.32206457, -0.88476233],\n",
       "       [-1.77635424, -0.97149714],\n",
       "       [ 1.73817914,  0.43527203],\n",
       "       [ 0.82924809, -0.25610845],\n",
       "       [ 0.34448487, -0.04086736],\n",
       "       [-1.29159102, -0.53074555],\n",
       "       [ 0.34448487, -0.5258884 ],\n",
       "       [ 1.31401132, -1.10708099],\n",
       "       [-0.44325537, -0.41542295],\n",
       "       [ 1.43520212, -0.80399488],\n",
       "       [-1.29159102,  2.16511101],\n",
       "       [-0.988614  ,  0.51506806],\n",
       "       [ 0.82924809,  0.46233329],\n",
       "       [ 1.37460672, -0.71975804],\n",
       "       [ 1.0716297 ,  1.54020408],\n",
       "       [-1.23099561,  0.32924741],\n",
       "       [ 1.43520212, -0.81815   ],\n",
       "       [-1.10980481, -0.26707173],\n",
       "       [ 1.25341591, -0.65841918],\n",
       "       [-0.26146916,  1.62943685],\n",
       "       [ 0.9504389 , -0.83175002],\n",
       "       [-0.62504158,  0.36338623],\n",
       "       [-0.38265997,  1.91378824],\n",
       "       [-1.23099561, -0.91723584],\n",
       "       [ 1.37460672,  0.63954985],\n",
       "       [ 0.04150785, -1.07058298],\n",
       "       [ 0.9504389 , -0.3860025 ],\n",
       "       [ 1.43520212,  1.52174691],\n",
       "       [-0.9280186 , -0.44803523],\n",
       "       [-1.65516344, -0.72891723],\n",
       "       [ 0.58686648,  1.18979546],\n",
       "       [-1.59456803,  1.13678315],\n",
       "       [ 1.55639293, -0.29385544],\n",
       "       [-0.988614  ,  0.4982762 ],\n",
       "       [-1.23099561, -0.76041931],\n",
       "       [-0.20087376,  0.94652168],\n",
       "       [-0.80682779,  0.13662675],\n",
       "       [-1.10980481,  0.6695254 ],\n",
       "       [-0.50385078, -0.67812533],\n",
       "       [-1.10980481,  0.42694549],\n",
       "       [-1.53397263, -0.38461474],\n",
       "       [-0.74623239, -0.72780703],\n",
       "       [ 0.9504389 , -0.29843504],\n",
       "       [ 1.19282051, -1.15509738],\n",
       "       [-0.74623239, -0.884346  ],\n",
       "       [-0.38265997, -0.66036204],\n",
       "       [ 0.16269866, -0.83508063],\n",
       "       [ 0.88984349, -0.29829626],\n",
       "       [ 0.40508027, -0.34520245],\n",
       "       [ 1.49579753, -0.08416537],\n",
       "       [-0.44325537,  0.97233395],\n",
       "       [ 0.34448487,  0.1563329 ],\n",
       "       [ 1.0716297 ,  0.0707083 ],\n",
       "       [-0.20087376, -0.12885115],\n",
       "       [-0.9280186 ,  1.85480857],\n",
       "       [-0.14027836,  1.82996772],\n",
       "       [ 0.70805729, -0.14841852],\n",
       "       [-0.50385078, -0.64676202],\n",
       "       [ 0.82924809,  3.07561832],\n",
       "       [ 0.70805729,  1.29207314],\n",
       "       [-1.47337723,  2.71369132],\n",
       "       [-1.77635424,  0.08888791],\n",
       "       [-0.80682779, -0.58472929],\n",
       "       [ 0.04150785, -0.44831279],\n",
       "       [-0.988614  , -0.41042702],\n",
       "       [ 0.70805729, -0.98787267],\n",
       "       [-1.35218642,  1.69438387],\n",
       "       [-0.44325537, -0.98759512],\n",
       "       [-1.35218642, -0.57334968],\n",
       "       [-0.14027836,  0.54518238],\n",
       "       [ 1.67758373, -0.88920315],\n",
       "       [-1.29159102,  0.10623487],\n",
       "       [ 0.34448487, -1.19270559],\n",
       "       [ 0.16269866, -1.30469757],\n",
       "       [-0.56444618, -0.95956243],\n",
       "       [ 1.25341591, -0.32133303],\n",
       "       [-1.47337723, -0.94415833],\n",
       "       [ 0.40508027,  0.30676574],\n",
       "       [ 1.37460672, -0.91182359],\n",
       "       [-0.26146916, -0.83008471],\n",
       "       [-0.74623239, -0.8038561 ],\n",
       "       [ 1.0110343 ,  1.3031752 ],\n",
       "       [-0.988614  ,  1.52368977],\n",
       "       [-1.77635424,  0.15563902],\n",
       "       [-0.62504158,  0.88421139],\n",
       "       [-0.50385078,  0.09277363],\n",
       "       [ 0.52627108, -0.49813326],\n",
       "       [-1.53397263,  1.37173039],\n",
       "       [ 1.31401132,  0.0364307 ],\n",
       "       [-0.56444618, -1.14344022],\n",
       "       [ 0.16269866,  2.42267869],\n",
       "       [-0.74623239, -1.19450967],\n",
       "       [ 1.55639293,  0.61123961],\n",
       "       [ 0.46567567,  2.33663776],\n",
       "       [ 0.28388946, -0.34506367],\n",
       "       [-1.23099561,  1.34633444],\n",
       "       [-0.14027836,  0.68714991],\n",
       "       [ 1.79877454, -0.57529254],\n",
       "       [ 0.64746188, -0.70879476],\n",
       "       [-0.56444618, -0.44276176],\n",
       "       [ 0.40508027, -0.65800285],\n",
       "       [ 1.49579753, -0.83535819],\n",
       "       [ 0.28388946, -1.36215071],\n",
       "       [ 1.19282051,  1.34008953],\n",
       "       [ 0.9504389 , -1.03575028],\n",
       "       [ 1.79877454, -0.08999395],\n",
       "       [-0.32206457, -0.89100724],\n",
       "       [ 1.0110343 , -0.92167666],\n",
       "       [-0.44325537, -0.56599457],\n",
       "       [-1.10980481, -0.52422309],\n",
       "       [ 1.0110343 , -1.21352194],\n",
       "       [-1.35218642, -1.10097486],\n",
       "       [ 0.28388946, -1.024787  ],\n",
       "       [ 1.43520212, -0.70435393],\n",
       "       [ 0.64746188, -1.22448522],\n",
       "       [ 1.67758373, -0.20018185],\n",
       "       [-0.44325537,  0.08874914],\n",
       "       [ 0.28388946, -0.76985606],\n",
       "       [-0.80682779, -0.67410083],\n",
       "       [ 0.52627108,  0.95457067],\n",
       "       [ 0.88984349, -0.7827622 ],\n",
       "       [-0.62504158, -0.43873726],\n",
       "       [-0.8674232 , -0.78290097],\n",
       "       [ 0.76865269, -0.85201127],\n",
       "       [-0.07968296, -0.44761891],\n",
       "       [-1.41278182,  1.74129005],\n",
       "       [-1.71575884,  0.40557404],\n",
       "       [-0.38265997,  0.30676574],\n",
       "       [ 0.82924809,  1.46554276],\n",
       "       [ 0.76865269, -0.2593003 ],\n",
       "       [ 0.40508027,  0.96012169],\n",
       "       [-1.47337723, -0.66924368],\n",
       "       [-0.988614  , -0.44484339],\n",
       "       [ 0.04150785, -0.84201942],\n",
       "       [-0.32206457,  0.15827576],\n",
       "       [-0.20087376,  0.36838215],\n",
       "       [-0.14027836, -0.46052505],\n",
       "       [ 1.73817914,  0.31412086],\n",
       "       [ 0.22329406, -0.78248465],\n",
       "       [-1.17040021,  0.40612914],\n",
       "       [-0.32206457, -0.01602651],\n",
       "       [ 1.37460672, -0.02685101],\n",
       "       [-1.35218642,  0.93444819],\n",
       "       [ 0.88984349, -0.30537382],\n",
       "       [-1.47337723, -0.61040279],\n",
       "       [-0.50385078, -0.08250007],\n",
       "       [-1.59456803,  2.92865486],\n",
       "       [ 0.76865269,  1.36118344],\n",
       "       [ 1.55639293, -0.86533373],\n",
       "       [ 0.16269866, -0.788452  ],\n",
       "       [ 1.25341591,  2.62459732],\n",
       "       [ 1.19282051,  0.67271724],\n",
       "       [ 0.82924809,  0.40335363],\n",
       "       [-1.29159102, -1.12040345],\n",
       "       [ 1.67758373,  0.031296  ],\n",
       "       [ 1.67758373, -1.29276286],\n",
       "       [ 0.10210325,  2.58143808],\n",
       "       [ 0.70805729, -0.6269171 ],\n",
       "       [-1.71575884, -0.56599457],\n",
       "       [ 0.46567567, -0.85908883],\n",
       "       [-1.29159102, -0.28650033],\n",
       "       [-0.26146916, -0.6571702 ]])"
      ]
     },
     "execution_count": 23,
     "metadata": {},
     "output_type": "execute_result"
    }
   ],
   "source": [
    "X_numerical"
   ]
  },
  {
   "cell_type": "code",
   "execution_count": 26,
   "id": "b85bb1fa",
   "metadata": {},
   "outputs": [
    {
     "data": {
      "text/plain": [
       "(200, 9)"
      ]
     },
     "execution_count": 26,
     "metadata": {},
     "output_type": "execute_result"
    }
   ],
   "source": [
    "X = np.hstack((X_categorical.toarray(),X_numerical))\n",
    "X.shape"
   ]
  },
  {
   "cell_type": "code",
   "execution_count": 31,
   "id": "1adc6777",
   "metadata": {},
   "outputs": [],
   "source": [
    "# Categorize the Drug type\n",
    "y = df['Drug']"
   ]
  },
  {
   "cell_type": "markdown",
   "id": "78c68056",
   "metadata": {},
   "source": [
    "### Support Vecotr Machine"
   ]
  },
  {
   "cell_type": "code",
   "execution_count": 27,
   "id": "09130126",
   "metadata": {},
   "outputs": [],
   "source": [
    "svm = svm.SVC()"
   ]
  },
  {
   "cell_type": "code",
   "execution_count": 28,
   "id": "a48b2ca9",
   "metadata": {},
   "outputs": [],
   "source": [
    "from sklearn.metrics import confusion_matrix, classification_report, accuracy_score"
   ]
  },
  {
   "cell_type": "code",
   "execution_count": 29,
   "id": "95f5569d",
   "metadata": {},
   "outputs": [],
   "source": [
    "from sklearn.model_selection import KFold"
   ]
  },
  {
   "cell_type": "code",
   "execution_count": 30,
   "id": "3ded28cb",
   "metadata": {},
   "outputs": [],
   "source": [
    "# 8 Fold Cross Validation\n",
    "kf = KFold(n_splits=8)"
   ]
  },
  {
   "cell_type": "code",
   "execution_count": 32,
   "id": "3ef9487e",
   "metadata": {},
   "outputs": [],
   "source": [
    "accuracy = []\n",
    "for train_idx, test_idx in kf.split(X):\n",
    "    X_train, X_test = X[train_idx], X[test_idx]\n",
    "    y_train, y_test = y.iloc[train_idx], y.iloc[test_idx] #Dependent variable is the dataframe format, and need iloc.\n",
    "    \n",
    "    svm.fit(X_train, y_train)\n",
    "    predictions = svm.predict(X_test)\n",
    "    \n",
    "    accuracy_tmp = accuracy_score(y_test, predictions)\n",
    "    accuracy.append(accuracy_tmp)"
   ]
  },
  {
   "cell_type": "code",
   "execution_count": 34,
   "id": "f6b2d762",
   "metadata": {},
   "outputs": [
    {
     "data": {
      "text/plain": [
       "0.97"
      ]
     },
     "execution_count": 34,
     "metadata": {},
     "output_type": "execute_result"
    }
   ],
   "source": [
    "# The mean of KFolded Support Vector Machine\n",
    "np.mean(accuracy)"
   ]
  }
 ],
 "metadata": {
  "kernelspec": {
   "display_name": "Python [conda env:testEnv] *",
   "language": "python",
   "name": "conda-env-testEnv-py"
  },
  "language_info": {
   "codemirror_mode": {
    "name": "ipython",
    "version": 3
   },
   "file_extension": ".py",
   "mimetype": "text/x-python",
   "name": "python",
   "nbconvert_exporter": "python",
   "pygments_lexer": "ipython3",
   "version": "3.10.9"
  }
 },
 "nbformat": 4,
 "nbformat_minor": 5
}
